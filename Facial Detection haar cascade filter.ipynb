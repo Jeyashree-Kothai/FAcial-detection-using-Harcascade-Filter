{
 "cells": [
  {
   "cell_type": "code",
   "execution_count": 1,
   "metadata": {},
   "outputs": [],
   "source": [
    "import numpy as np\n",
    "import cv2\n",
    "\n",
    "\n",
    "cap  = cv2.VideoCapture(0)\n",
    "face = cv2.CascadeClassifier('haarcascade_frontalface_default.xml')\n",
    "width = 640\n",
    "height = 480\n",
    "\n",
    "codec = cv2.VideoWriter_fourcc('M' ,'J' , 'P' , 'G')\n",
    "writ = cv2.VideoWriter('facial_Detection.avi' , codec , 20 ,  (width , height))\n",
    "\n",
    "while True:\n",
    "    ret,frame  = cap.read()\n",
    "    if True:\n",
    "        gray = cv2.cvtColor(frame , cv2.COLOR_BGR2GRAY)\n",
    "        \n",
    "        face_detection = face.detectMultiScale(gray ,1.1 , 4 )\n",
    "        \n",
    "        for (x,y ,w,h) in face_detection:\n",
    "            cv2.rectangle(frame  , (x,y) , (x+w,y+h) , (255,0,0) , 4)\n",
    "            \n",
    "        \n",
    "    cv2.imshow('Facial detection' , frame)   \n",
    "    writ.write(frame)    \n",
    "    k = cv2.waitKey(1) & 0XFF  \n",
    "    if k == 27:\n",
    "        break\n",
    "        \n",
    "        \n",
    "        \n",
    "writ.release()        \n",
    "cap.release()\n",
    "cv2.destroyAllWindows()"
   ]
  },
  {
   "cell_type": "code",
   "execution_count": null,
   "metadata": {},
   "outputs": [],
   "source": []
  }
 ],
 "metadata": {
  "kernelspec": {
   "display_name": "Python 3",
   "language": "python",
   "name": "python3"
  },
  "language_info": {
   "codemirror_mode": {
    "name": "ipython",
    "version": 3
   },
   "file_extension": ".py",
   "mimetype": "text/x-python",
   "name": "python",
   "nbconvert_exporter": "python",
   "pygments_lexer": "ipython3",
   "version": "3.8.2"
  }
 },
 "nbformat": 4,
 "nbformat_minor": 4
}
